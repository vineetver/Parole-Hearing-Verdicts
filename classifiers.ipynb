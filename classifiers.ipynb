{
 "cells": [
  {
   "cell_type": "code",
   "execution_count": 140,
   "metadata": {},
   "outputs": [],
   "source": [
    "import pandas as pd\n",
    "import os\n",
    "import numpy as np\n",
    "from sklearn.preprocessing import StandardScaler\n",
    "from sklearn.neighbors import KNeighborsClassifier\n",
    "from sklearn.naive_bayes import GaussianNB\n",
    "from sklearn.tree import DecisionTreeClassifier\n",
    "from sklearn.linear_model import LogisticRegression\n",
    "from sklearn.model_selection import train_test_split, cross_val_score\n",
    "from sklearn.metrics import ConfusionMatrixDisplay, confusion_matrix, mean_squared_error, accuracy_score, f1_score, precision_score, recall_score, classification_report\n",
    "from tensorflow import keras\n",
    "from keras.models import Sequential\n",
    "from sklearn.model_selection import KFold\n",
    "import matplotlib.pyplot as plt"
   ]
  },
  {
   "cell_type": "code",
   "execution_count": 141,
   "metadata": {},
   "outputs": [],
   "source": [
    "ticker = 'High_Value_Dataset_July_2021_preprocessed'\n",
    "input_dir = r'./data/'\n",
    "file = os.path.join(input_dir, ticker + '.csv')"
   ]
  },
  {
   "cell_type": "code",
   "execution_count": 142,
   "metadata": {},
   "outputs": [
    {
     "data": {
      "text/html": [
       "<div>\n",
       "<style scoped>\n",
       "    .dataframe tbody tr th:only-of-type {\n",
       "        vertical-align: middle;\n",
       "    }\n",
       "\n",
       "    .dataframe tbody tr th {\n",
       "        vertical-align: top;\n",
       "    }\n",
       "\n",
       "    .dataframe thead th {\n",
       "        text-align: right;\n",
       "    }\n",
       "</style>\n",
       "<table border=\"1\" class=\"dataframe\">\n",
       "  <thead>\n",
       "    <tr style=\"text-align: right;\">\n",
       "      <th></th>\n",
       "      <th>Gender</th>\n",
       "      <th>Race</th>\n",
       "      <th>Age</th>\n",
       "      <th>County</th>\n",
       "      <th>Current Facility</th>\n",
       "      <th>Offense Code</th>\n",
       "      <th>TDCJ Offense</th>\n",
       "      <th>Sentence (Years)</th>\n",
       "      <th>Last Parole Decision</th>\n",
       "      <th>Parole Review Status</th>\n",
       "      <th>Parole Eligibility (Years)</th>\n",
       "      <th>Sentence Left (Years)</th>\n",
       "    </tr>\n",
       "  </thead>\n",
       "  <tbody>\n",
       "    <tr>\n",
       "      <th>2</th>\n",
       "      <td>1</td>\n",
       "      <td>6</td>\n",
       "      <td>85</td>\n",
       "      <td>55</td>\n",
       "      <td>92</td>\n",
       "      <td>11220000</td>\n",
       "      <td>1087</td>\n",
       "      <td>999.0</td>\n",
       "      <td>0</td>\n",
       "      <td>0</td>\n",
       "      <td>-18</td>\n",
       "      <td>999</td>\n",
       "    </tr>\n",
       "    <tr>\n",
       "      <th>3</th>\n",
       "      <td>1</td>\n",
       "      <td>2</td>\n",
       "      <td>84</td>\n",
       "      <td>173</td>\n",
       "      <td>71</td>\n",
       "      <td>9150000</td>\n",
       "      <td>7178</td>\n",
       "      <td>999.0</td>\n",
       "      <td>0</td>\n",
       "      <td>0</td>\n",
       "      <td>-15</td>\n",
       "      <td>999</td>\n",
       "    </tr>\n",
       "    <tr>\n",
       "      <th>5</th>\n",
       "      <td>1</td>\n",
       "      <td>1</td>\n",
       "      <td>83</td>\n",
       "      <td>204</td>\n",
       "      <td>9</td>\n",
       "      <td>11990003</td>\n",
       "      <td>1380</td>\n",
       "      <td>20.0</td>\n",
       "      <td>0</td>\n",
       "      <td>0</td>\n",
       "      <td>-8</td>\n",
       "      <td>2</td>\n",
       "    </tr>\n",
       "    <tr>\n",
       "      <th>6</th>\n",
       "      <td>1</td>\n",
       "      <td>6</td>\n",
       "      <td>84</td>\n",
       "      <td>99</td>\n",
       "      <td>86</td>\n",
       "      <td>9130000</td>\n",
       "      <td>3487</td>\n",
       "      <td>999.0</td>\n",
       "      <td>0</td>\n",
       "      <td>1</td>\n",
       "      <td>-40</td>\n",
       "      <td>999</td>\n",
       "    </tr>\n",
       "    <tr>\n",
       "      <th>8</th>\n",
       "      <td>1</td>\n",
       "      <td>2</td>\n",
       "      <td>82</td>\n",
       "      <td>218</td>\n",
       "      <td>26</td>\n",
       "      <td>36120005</td>\n",
       "      <td>4952</td>\n",
       "      <td>20.0</td>\n",
       "      <td>0</td>\n",
       "      <td>0</td>\n",
       "      <td>-16</td>\n",
       "      <td>2</td>\n",
       "    </tr>\n",
       "    <tr>\n",
       "      <th>...</th>\n",
       "      <td>...</td>\n",
       "      <td>...</td>\n",
       "      <td>...</td>\n",
       "      <td>...</td>\n",
       "      <td>...</td>\n",
       "      <td>...</td>\n",
       "      <td>...</td>\n",
       "      <td>...</td>\n",
       "      <td>...</td>\n",
       "      <td>...</td>\n",
       "      <td>...</td>\n",
       "      <td>...</td>\n",
       "    </tr>\n",
       "    <tr>\n",
       "      <th>118305</th>\n",
       "      <td>1</td>\n",
       "      <td>6</td>\n",
       "      <td>30</td>\n",
       "      <td>227</td>\n",
       "      <td>54</td>\n",
       "      <td>12990001</td>\n",
       "      <td>9666</td>\n",
       "      <td>10.0</td>\n",
       "      <td>0</td>\n",
       "      <td>0</td>\n",
       "      <td>0</td>\n",
       "      <td>9</td>\n",
       "    </tr>\n",
       "    <tr>\n",
       "      <th>118307</th>\n",
       "      <td>1</td>\n",
       "      <td>2</td>\n",
       "      <td>20</td>\n",
       "      <td>219</td>\n",
       "      <td>94</td>\n",
       "      <td>12990002</td>\n",
       "      <td>864</td>\n",
       "      <td>6.0</td>\n",
       "      <td>0</td>\n",
       "      <td>0</td>\n",
       "      <td>0</td>\n",
       "      <td>3</td>\n",
       "    </tr>\n",
       "    <tr>\n",
       "      <th>118310</th>\n",
       "      <td>1</td>\n",
       "      <td>1</td>\n",
       "      <td>29</td>\n",
       "      <td>55</td>\n",
       "      <td>82</td>\n",
       "      <td>12990001</td>\n",
       "      <td>9666</td>\n",
       "      <td>2.0</td>\n",
       "      <td>1</td>\n",
       "      <td>0</td>\n",
       "      <td>-1</td>\n",
       "      <td>1</td>\n",
       "    </tr>\n",
       "    <tr>\n",
       "      <th>118313</th>\n",
       "      <td>1</td>\n",
       "      <td>1</td>\n",
       "      <td>24</td>\n",
       "      <td>214</td>\n",
       "      <td>20</td>\n",
       "      <td>35990003</td>\n",
       "      <td>8604</td>\n",
       "      <td>7.0</td>\n",
       "      <td>0</td>\n",
       "      <td>1</td>\n",
       "      <td>-1</td>\n",
       "      <td>6</td>\n",
       "    </tr>\n",
       "    <tr>\n",
       "      <th>118317</th>\n",
       "      <td>0</td>\n",
       "      <td>6</td>\n",
       "      <td>26</td>\n",
       "      <td>106</td>\n",
       "      <td>69</td>\n",
       "      <td>13150004</td>\n",
       "      <td>368</td>\n",
       "      <td>5.0</td>\n",
       "      <td>0</td>\n",
       "      <td>0</td>\n",
       "      <td>-2</td>\n",
       "      <td>3</td>\n",
       "    </tr>\n",
       "  </tbody>\n",
       "</table>\n",
       "<p>61209 rows × 12 columns</p>\n",
       "</div>"
      ],
      "text/plain": [
       "        Gender  Race  ...  Parole Eligibility (Years)  Sentence Left (Years)\n",
       "2            1     6  ...                         -18                    999\n",
       "3            1     2  ...                         -15                    999\n",
       "5            1     1  ...                          -8                      2\n",
       "6            1     6  ...                         -40                    999\n",
       "8            1     2  ...                         -16                      2\n",
       "...        ...   ...  ...                         ...                    ...\n",
       "118305       1     6  ...                           0                      9\n",
       "118307       1     2  ...                           0                      3\n",
       "118310       1     1  ...                          -1                      1\n",
       "118313       1     1  ...                          -1                      6\n",
       "118317       0     6  ...                          -2                      3\n",
       "\n",
       "[61209 rows x 12 columns]"
      ]
     },
     "execution_count": 142,
     "metadata": {},
     "output_type": "execute_result"
    }
   ],
   "source": [
    "df = pd.read_csv(file, index_col=0)\n",
    "df"
   ]
  },
  {
   "cell_type": "code",
   "execution_count": 143,
   "metadata": {},
   "outputs": [],
   "source": [
    "X = df.drop(['Last Parole Decision'], axis=1).values\n",
    "Y = df['Last Parole Decision'].values\n",
    "\n",
    "np.random.shuffle(X)\n",
    "np.random.shuffle(Y)\n",
    "\n",
    "assert X.shape[0] == Y.shape[0]"
   ]
  },
  {
   "cell_type": "code",
   "execution_count": 144,
   "metadata": {},
   "outputs": [],
   "source": [
    "scaler = StandardScaler()\n",
    "X = scaler.fit_transform(X)"
   ]
  },
  {
   "cell_type": "code",
   "execution_count": 145,
   "metadata": {},
   "outputs": [],
   "source": [
    "x_train, x_test, y_train, y_test = train_test_split(X, Y, test_size=0.2, random_state=50)"
   ]
  },
  {
   "cell_type": "markdown",
   "metadata": {},
   "source": [
    "## Helper Functions"
   ]
  },
  {
   "cell_type": "code",
   "execution_count": 178,
   "metadata": {},
   "outputs": [],
   "source": [
    "def report(y_test, y_pred):\n",
    "    \"\"\"\n",
    "    This function prints out the classification report for the given data.\n",
    "    \"\"\"\n",
    "    TN, FP, FN, TP = confusion_matrix(y_test, y_pred, labels=[1, 0]).ravel()    ## TPR and TNR\n",
    "    TPR = TP/(TP+FN) # Sensitivity, hit rate, recall, or test positive rate\n",
    "    TNR = TN/(TN+FP) # Specificity or test negative rate\n",
    "    print(f'\\nTrue Positive Rate: {TPR:.2f} \\nTrue Negative Rate: {TNR:.2f}')\n",
    "\n",
    "    cm = confusion_matrix(y_test, y_pred)\n",
    "    cmd = ConfusionMatrixDisplay(cm, display_labels=[0, 1])\n",
    "    cmd.plot(include_values=True, cmap='viridis')\n",
    "\n",
    "    print(f'Accuracy: {accuracy_score(y_test, y_pred):.2f}')\n",
    "    print(f'Mean Squared Error: {mean_squared_error(y_test, y_pred):.2f}')\n",
    "    print(f'F1 Score: {f1_score(y_test, y_pred):.2f}')\n",
    "\n",
    "def validation(model, X, Y, k):\n",
    "    \"\"\"\n",
    "    This function does k-fold validation on the given data.\n",
    "\n",
    "    Parameters:\n",
    "    model: The model to be used for validation.\n",
    "    X: The data to be used for validation.\n",
    "    Y: The labels to be used for validation.\n",
    "    k: The number of folds to be used for validation.\n",
    "\n",
    "    Returns:\n",
    "    The average accuracy of the model using K Fold Validation.\n",
    "    \"\"\"\n",
    "    acc = cross_val_score(model, X, Y, cv=k, scoring='accuracy')\n",
    "\n",
    "    return print(f'\\n10 Fold Validation accuracy: {acc.mean():.2f}')\n",
    "\n",
    "def plot_learning_curve(history):\n",
    "    \"\"\"\n",
    "    Function to plot the learning curve\n",
    "\n",
    "    Returns:\n",
    "        None\n",
    "    \"\"\"\n",
    "    plt.plot(history.history['accuracy'], label='Training Accuracy')\n",
    "    plt.plot(history.history['val_accuracy'], label='Validation Accuracy')\n",
    "    plt.title('Accuracy')\n",
    "    plt.xlabel('Epoch')\n",
    "    plt.ylabel('Accuracy')\n",
    "    plt.legend()\n",
    "    plt.show()\n",
    "\n",
    "    print(f'Train accuracy: {np.mean(history.history[\"accuracy\"]):.2f}')\n",
    "    print(f'\\nTest accuracy: {np.mean(history.history[\"val_accuracy\"]):.2f}')\n",
    "    print(f'Test loss: {np.mean(history.history[\"val_loss\"]):.2f}')\n",
    "\n",
    "def plot_learning_curve(history):\n",
    "    \"\"\"\n",
    "    Function to plot the learning curve\n",
    "\n",
    "    Returns:\n",
    "        None\n",
    "    \"\"\"\n",
    "    plt.plot(history.history['accuracy'], label='Training Accuracy')\n",
    "    plt.plot(history.history['val_accuracy'], label='Validation Accuracy')\n",
    "    plt.title('Accuracy')\n",
    "    plt.xlabel('Epoch')\n",
    "    plt.ylabel('Accuracy')\n",
    "    plt.legend()\n",
    "    plt.show()\n",
    "\n",
    "    print(f'Train accuracy: {np.mean(history.history[\"accuracy\"]):.2f}')\n",
    "    print(f'\\nTest accuracy: {np.mean(history.history[\"val_accuracy\"]):.2f}')\n",
    "    print(f'Test loss: {np.mean(history.history[\"val_loss\"]):.2f}')"
   ]
  },
  {
   "cell_type": "markdown",
   "metadata": {},
   "source": [
    "## Classifiers"
   ]
  },
  {
   "cell_type": "markdown",
   "metadata": {},
   "source": [
    "### 1) K Nearest Neighbors"
   ]
  },
  {
   "cell_type": "markdown",
   "metadata": {},
   "source": [
    "Find the Best value of K with elbow method"
   ]
  },
  {
   "cell_type": "code",
   "execution_count": 147,
   "metadata": {},
   "outputs": [
    {
     "data": {
      "image/png": "[encoded data removed]",
      "text/plain": [
       "<Figure size 720x432 with 1 Axes>"
      ]
     },
     "metadata": {
      "needs_background": "light"
     },
     "output_type": "display_data"
    },
    {
     "name": "stdout",
     "output_type": "stream",
     "text": [
      "Minimum error 0.19702662963568043 at K =  12\n"
     ]
    }
   ],
   "source": [
    "scores_list = []\n",
    "\n",
    "for i in range(3, 30, 2):\n",
    "    knn = KNeighborsClassifier(n_neighbors=i)\n",
    "    knn.fit(x_train, y_train)\n",
    "    pred_i = knn.predict(x_test)\n",
    "    scores_list.append(np.mean(pred_i != y_test))\n",
    "\n",
    "plt.figure(figsize=(10, 6))\n",
    "plt.plot(range(3, 30, 2), scores_list, color='blue', marker='o', markerfacecolor='red', markersize=10)\n",
    "plt.title('Error vs. K ')\n",
    "plt.xlabel('value of K')\n",
    "plt.ylabel('Error')\n",
    "plt.show()\n",
    "print(f'Minimum error {min(scores_list)} at K =  {scores_list.index(min(scores_list))}')"
   ]
  },
  {
   "cell_type": "markdown",
   "metadata": {},
   "source": [
    "Main Model with k = 13"
   ]
  },
  {
   "cell_type": "code",
   "execution_count": 176,
   "metadata": {},
   "outputs": [],
   "source": [
    "knn = KNeighborsClassifier(n_neighbors=13)\n",
    "knn.fit(x_train, y_train)\n",
    "knn_pred = knn.predict(x_test)"
   ]
  },
  {
   "cell_type": "code",
   "execution_count": 177,
   "metadata": {},
   "outputs": [
    {
     "name": "stdout",
     "output_type": "stream",
     "text": [
      "\n",
      "True Positive Rate: 0.99 \n",
      "True Negative Rate: 0.01\n",
      "Accuracy: 0.80\n",
      "Mean Squared Error: 0.20\n",
      "\n",
      "F1 Score: 0.01\n",
      "10 Fold Validation accuracy: 0.80\n"
     ]
    },
    {
     "data": {
      "image/png": "[encoded data removed]",
      "text/plain": [
       "<Figure size 432x288 with 2 Axes>"
      ]
     },
     "metadata": {
      "needs_background": "light"
     },
     "output_type": "display_data"
    }
   ],
   "source": [
    "report(y_test, knn_pred)\n",
    "validation(knn, X, Y, 10)"
   ]
  },
  {
   "cell_type": "markdown",
   "metadata": {},
   "source": [
    "### 2) Naive Bayesian"
   ]
  },
  {
   "cell_type": "code",
   "execution_count": 179,
   "metadata": {},
   "outputs": [],
   "source": [
    "gnb = GaussianNB().fit(x_train, y_train)\n",
    "gnb_pred = gnb.predict(x_test)"
   ]
  },
  {
   "cell_type": "code",
   "execution_count": 180,
   "metadata": {},
   "outputs": [
    {
     "name": "stdout",
     "output_type": "stream",
     "text": [
      "\n",
      "True Positive Rate: 0.99 \n",
      "True Negative Rate: 0.01\n",
      "Accuracy: 0.80\n",
      "Mean Squared Error: 0.20\n",
      "F1 Score: 0.01\n",
      "\n",
      "10 Fold Validation accuracy: 0.80\n"
     ]
    },
    {
     "data": {
      "image/png": "[encoded data removed]",
      "text/plain": [
       "<Figure size 432x288 with 2 Axes>"
      ]
     },
     "metadata": {
      "needs_background": "light"
     },
     "output_type": "display_data"
    }
   ],
   "source": [
    "report(y_test, gnb_pred)\n",
    "validation(gnb, X, Y, 10)"
   ]
  },
  {
   "cell_type": "markdown",
   "metadata": {},
   "source": [
    "## 3) Decision Tree"
   ]
  },
  {
   "cell_type": "code",
   "execution_count": 181,
   "metadata": {},
   "outputs": [],
   "source": [
    "dt = DecisionTreeClassifier().fit(x_train, y_train)\n",
    "dt_pred = dt.predict(x_test)"
   ]
  },
  {
   "cell_type": "code",
   "execution_count": 182,
   "metadata": {},
   "outputs": [
    {
     "name": "stdout",
     "output_type": "stream",
     "text": [
      "\n",
      "True Positive Rate: 0.78 \n",
      "True Negative Rate: 0.22\n",
      "Accuracy: 0.67\n",
      "Mean Squared Error: 0.33\n",
      "F1 Score: 0.21\n",
      "\n",
      "10 Fold Validation accuracy: 0.67\n"
     ]
    },
    {
     "data": {
      "image/png": "[encoded data removed]",
      "text/plain": [
       "<Figure size 432x288 with 2 Axes>"
      ]
     },
     "metadata": {
      "needs_background": "light"
     },
     "output_type": "display_data"
    }
   ],
   "source": [
    "report(y_test, dt_pred)\n",
    "validation(dt, X, Y, 10)"
   ]
  },
  {
   "cell_type": "markdown",
   "metadata": {},
   "source": [
    "### 4) Logistic Regression"
   ]
  },
  {
   "cell_type": "code",
   "execution_count": 183,
   "metadata": {},
   "outputs": [],
   "source": [
    "lr = LogisticRegression().fit(x_train, y_train)\n",
    "lr_pred = lr.predict(x_test)"
   ]
  },
  {
   "cell_type": "code",
   "execution_count": 184,
   "metadata": {},
   "outputs": [
    {
     "name": "stdout",
     "output_type": "stream",
     "text": [
      "\n",
      "True Positive Rate: 1.00 \n",
      "True Negative Rate: 0.00\n",
      "Accuracy: 0.80\n",
      "Mean Squared Error: 0.20\n",
      "F1 Score: 0.00\n",
      "\n",
      "10 Fold Validation accuracy: 0.80\n"
     ]
    },
    {
     "data": {
      "image/png": "[encoded data removed]",
      "text/plain": [
       "<Figure size 432x288 with 2 Axes>"
      ]
     },
     "metadata": {
      "needs_background": "light"
     },
     "output_type": "display_data"
    }
   ],
   "source": [
    "report(y_test, lr_pred)\n",
    "validation(lr, X, Y, 10)"
   ]
  },
  {
   "cell_type": "markdown",
   "metadata": {},
   "source": [
    "### 5) Neural Net"
   ]
  },
  {
   "cell_type": "code",
   "execution_count": 185,
   "metadata": {},
   "outputs": [],
   "source": [
    "model = Sequential()\n",
    "model.add(keras.layers.Input(shape=(x_train.shape[1],)))\n",
    "model.add(keras.layers.Dense(units=100, activation='elu'))\n",
    "model.add(keras.layers.Dense(units=100, activation='elu'))\n",
    "model.add(keras.layers.Dense(units=1, activation='sigmoid'))\n",
    "model.compile(optimizer='rmsprop', loss='binary_crossentropy', metrics=['accuracy'])"
   ]
  },
  {
   "cell_type": "code",
   "execution_count": 186,
   "metadata": {},
   "outputs": [
    {
     "name": "stdout",
     "output_type": "stream",
     "text": [
      "Epoch 1/5\n",
      "1531/1531 [==============================] - 8s 5ms/step - loss: 0.5073 - accuracy: 0.8014 - val_loss: 0.4988 - val_accuracy: 0.8031\n",
      "Epoch 2/5\n",
      "1531/1531 [==============================] - 8s 5ms/step - loss: 0.5012 - accuracy: 0.8025 - val_loss: 0.5007 - val_accuracy: 0.8031\n",
      "Epoch 3/5\n",
      "1531/1531 [==============================] - 8s 5ms/step - loss: 0.4998 - accuracy: 0.8025 - val_loss: 0.4979 - val_accuracy: 0.8031\n",
      "Epoch 4/5\n",
      "1531/1531 [==============================] - 8s 5ms/step - loss: 0.4992 - accuracy: 0.8025 - val_loss: 0.5003 - val_accuracy: 0.8031\n",
      "Epoch 5/5\n",
      "1531/1531 [==============================] - 8s 5ms/step - loss: 0.4991 - accuracy: 0.8025 - val_loss: 0.4970 - val_accuracy: 0.8031\n"
     ]
    }
   ],
   "source": [
    "history = model.fit(x_train, y_train, epochs=5, validation_data=(x_test, y_test))"
   ]
  },
  {
   "cell_type": "code",
   "execution_count": 187,
   "metadata": {},
   "outputs": [
    {
     "data": {
      "image/png": "[encoded data removed]",
      "text/plain": [
       "<Figure size 432x288 with 1 Axes>"
      ]
     },
     "metadata": {
      "needs_background": "light"
     },
     "output_type": "display_data"
    },
    {
     "name": "stdout",
     "output_type": "stream",
     "text": [
      "Train accuracy: 0.80\n",
      "\n",
      "Test accuracy: 0.80\n",
      "Test loss: 0.50\n"
     ]
    }
   ],
   "source": [
    "plot_learning_curve(history)"
   ]
  },
  {
   "cell_type": "code",
   "execution_count": null,
   "metadata": {},
   "outputs": [],
   "source": []
  }
 ],
 "metadata": {
  "interpreter": {
   "hash": "29c75b1f656e0b1ae38298d922e204e268fabb475feb2323015295e781085b10"
  },
  "kernelspec": {
   "display_name": "Python 3.8.12 ('ml')",
   "language": "python",
   "name": "python3"
  },
  "language_info": {
   "codemirror_mode": {
    "name": "ipython",
    "version": 3
   },
   "file_extension": ".py",
   "mimetype": "text/x-python",
   "name": "python",
   "nbconvert_exporter": "python",
   "pygments_lexer": "ipython3",
   "version": "3.8.12"
  },
  "orig_nbformat": 4
 },
 "nbformat": 4,
 "nbformat_minor": 2
}
