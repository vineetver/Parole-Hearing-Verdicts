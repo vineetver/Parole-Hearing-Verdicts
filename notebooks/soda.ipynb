{
 "cells": [
  {
   "cell_type": "code",
   "execution_count": 1,
   "outputs": [],
   "source": [
    "from sodapy import Socrata"
   ],
   "metadata": {
    "collapsed": false,
    "pycharm": {
     "name": "#%%\n"
    }
   }
  },
  {
   "cell_type": "code",
   "execution_count": 1,
   "outputs": [],
   "source": [
    "from src.data.create_dataset import *"
   ],
   "metadata": {
    "collapsed": false,
    "pycharm": {
     "name": "#%%\n"
    }
   }
  },
  {
   "cell_type": "code",
   "execution_count": null,
   "outputs": [],
   "source": [
    "df = pd.read_csv('s3://texas-data-bucket/paroledata/texas_data.csv')"
   ],
   "metadata": {
    "collapsed": false,
    "pycharm": {
     "name": "#%%\n"
    }
   }
  },
  {
   "cell_type": "code",
   "execution_count": 62,
   "outputs": [],
   "source": [
    "token = os.environ['SOCRATA_TOKEN']\n",
    "\n",
    "client = Socrata('data.texas.gov', token)\n"
   ],
   "metadata": {
    "collapsed": false,
    "pycharm": {
     "name": "#%%\n"
    }
   }
  },
  {
   "cell_type": "code",
   "execution_count": 71,
   "outputs": [],
   "source": [
    "datasets =['tyje-q8w4', 'skhe-r982', 'q4fk-2ptv', 'cg6t-bapy', 'y6p5-x3b9']"
   ],
   "metadata": {
    "collapsed": false,
    "pycharm": {
     "name": "#%%\n"
    }
   }
  },
  {
   "cell_type": "code",
   "execution_count": 80,
   "outputs": [],
   "source": [
    "df = pd.DataFrame()\n",
    "for dataset in datasets:\n",
    "    results = client.get(str(dataset), limit=100000)\n",
    "    df = pd.concat([df, pd.DataFrame.from_records(results)])\n"
   ],
   "metadata": {
    "collapsed": false,
    "pycharm": {
     "name": "#%%\n"
    }
   }
  },
  {
   "cell_type": "code",
   "execution_count": 83,
   "outputs": [],
   "source": [
    "df.to_csv('./texas_data.csv')"
   ],
   "metadata": {
    "collapsed": false,
    "pycharm": {
     "name": "#%%\n"
    }
   }
  },
  {
   "cell_type": "code",
   "execution_count": 76,
   "outputs": [],
   "source": [
    "## duplicate rows\n",
    "df.drop_duplicates(inplace=True)"
   ],
   "metadata": {
    "collapsed": false,
    "pycharm": {
     "name": "#%%\n"
    }
   }
  },
  {
   "cell_type": "code",
   "execution_count": 87,
   "outputs": [
    {
     "data": {
      "text/plain": "Index(['sid_number', 'tdcj_number', 'name', 'current_facility', 'gender',\n       'race', 'age', 'projected_release', 'maximum_sentence_date',\n       'parole_eligibility_date', 'case_number', 'county', 'offense_code',\n       'tdcj_offense', 'sentence_date', 'offense_date', 'sentence_years',\n       'last_parole_decision', 'next_parole_review_date',\n       'parole_review_status'],\n      dtype='object')"
     },
     "execution_count": 87,
     "metadata": {},
     "output_type": "execute_result"
    }
   ],
   "source": [
    "## all datetime columns\n",
    "df.columns\n"
   ],
   "metadata": {
    "collapsed": false,
    "pycharm": {
     "name": "#%%\n"
    }
   }
  },
  {
   "cell_type": "code",
   "execution_count": 88,
   "outputs": [
    {
     "data": {
      "text/plain": "      sid_number tdcj_number                   name    current_facility  \\\n0       00524524    00758486   HARPER,DAVID JOHN JR             Estelle   \n1       00703267    00841623     RODRIGUEZ,THEODORE  Hospital Galveston   \n2       00770626    00449674          FLORES,ISABEL                Pack   \n3       00771601    01491019      MOLETT,JOHN HENRY            W. Scott   \n4       00779423    01241039        CARAWAY,LEON JR        C.T. Terrell   \n...          ...         ...                    ...                 ...   \n99995   17060062    02237912  DANSBY,LATONIO LASHUN             Clemens   \n99996   17060537    02264548    RODRIGUEZ,JUAN JOSE            Holliday   \n99997   17060637    02296654      ELAM,ASHLEY MARIE               Hobby   \n99998   17060954    02355705   LEATON,EDUARDO BRITO             Mechler   \n99999   17060974    02323576   HALL,MALCOLM DEWAYNE             Clemens   \n\n      gender race age        projected_release    maximum_sentence_date  \\\n0          M    W  93  9999-01-01T00:00:00.000  9999-01-01T00:00:00.000   \n1          M    W  84  2022-04-01T00:00:00.000  2043-08-03T00:00:00.000   \n2          M    H  85  9999-01-01T00:00:00.000  9999-01-01T00:00:00.000   \n3          M    B  79  2037-12-02T00:00:00.000  2037-12-02T00:00:00.000   \n4          M    B  84  2023-06-19T00:00:00.000  2023-06-19T00:00:00.000   \n...      ...  ...  ..                      ...                      ...   \n99995      M    B  21  2037-09-19T00:00:00.000  2037-09-19T00:00:00.000   \n99996      M    H  43  2047-09-19T00:00:00.000  2047-09-19T00:00:00.000   \n99997      F    W  24  2031-09-28T00:00:00.000  2031-09-28T00:00:00.000   \n99998      M    W  51  2022-10-30T00:00:00.000  2025-08-20T00:00:00.000   \n99999      M    B  22  2024-04-01T00:00:00.000  2024-04-01T00:00:00.000   \n\n       parole_eligibility_date    case_number     county offense_code  \\\n0      2026-08-03T00:00:00.000       95-765-C   McLennan     11180000   \n1      2021-02-01T00:00:00.000       97-396-C   McLennan     11990003   \n2      2006-09-02T00:00:00.000    86CR-1234-B     Nueces     09150000   \n3      2022-12-02T00:00:00.000        1144294     Harris     12990002   \n4      2013-06-18T00:00:00.000    04CR-16,149     Shelby     11990003   \n...                        ...            ...        ...          ...   \n99995  2027-09-20T00:00:00.000       17CR2712  Galveston     11990004   \n99996  2032-09-18T00:00:00.000    F-1758274-M     Dallas     11990004   \n99997  2025-09-27T00:00:00.000  DC-F201900127    Johnson     09990030   \n99998  2021-03-18T00:00:00.000    F-2040693-V     Dallas     37040009   \n99999  2021-10-01T00:00:00.000  17-DCR-079483  Fort Bend     11990004   \n\n                          tdcj_offense            sentence_date  \\\n0                   AGG SEXUAL ASSAULT  1996-08-13T00:00:00.000   \n1                         AGG SEX ASLT  1998-08-05T00:00:00.000   \n2                  MURDER W/DEADLY WPN  1987-04-13T00:00:00.000   \n3                     AGG ROBBERY W/DW  2008-02-21T00:00:00.000   \n4                      AGG SEXUAL ALST  2004-05-13T00:00:00.000   \n...                                ...                      ...   \n99995               AGG SEX ASLT CHILD  2018-12-10T00:00:00.000   \n99996            AGG SEXUAL ASLT CHILD  2019-05-21T00:00:00.000   \n99997                           MURDER  2019-12-02T00:00:00.000   \n99998  POSS OR PROMOTION OF CHILD PORN  2021-06-25T00:00:00.000   \n99999               AGG SEX ASLT CHILD  2020-08-11T00:00:00.000   \n\n                  offense_date sentence_years    last_parole_decision  \\\n0      1995-09-15T00:00:00.000           Life                    None   \n1      1996-06-01T00:00:00.000           45.0  Approved on 08/18/2021   \n2      1986-09-02T00:00:00.000           Life    Denied on 07/21/2021   \n3      2007-12-03T00:00:00.000           30.0                    None   \n4      1999-07-24T00:00:00.000           20.0    Denied on 10/30/2019   \n...                        ...            ...                     ...   \n99995  2017-07-28T00:00:00.000           20.0                    None   \n99996  2017-09-19T00:00:00.000           30.0                    None   \n99997  2018-12-09T00:00:00.000           12.0                    None   \n99998  2018-11-02T00:00:00.000            5.0    Denied on 09/02/2021   \n99999  2017-09-01T00:00:00.000            5.0    Denied on 09/17/2021   \n\n      next_parole_review_date   parole_review_status  \n0                  08/03/2026  NOT IN REVIEW PROCESS  \n1                         N/A  NOT IN REVIEW PROCESS  \n2                     07/2024  NOT IN REVIEW PROCESS  \n3                  12/02/2022  NOT IN REVIEW PROCESS  \n4                     09/2022  NOT IN REVIEW PROCESS  \n...                       ...                    ...  \n99995              09/20/2027  NOT IN REVIEW PROCESS  \n99996              09/18/2032  NOT IN REVIEW PROCESS  \n99997              09/27/2025  NOT IN REVIEW PROCESS  \n99998                 09/2022  NOT IN REVIEW PROCESS  \n99999                     N/A  NOT IN REVIEW PROCESS  \n\n[500000 rows x 20 columns]",
      "text/html": "<div>\n<style scoped>\n    .dataframe tbody tr th:only-of-type {\n        vertical-align: middle;\n    }\n\n    .dataframe tbody tr th {\n        vertical-align: top;\n    }\n\n    .dataframe thead th {\n        text-align: right;\n    }\n</style>\n<table border=\"1\" class=\"dataframe\">\n  <thead>\n    <tr style=\"text-align: right;\">\n      <th></th>\n      <th>sid_number</th>\n      <th>tdcj_number</th>\n      <th>name</th>\n      <th>current_facility</th>\n      <th>gender</th>\n      <th>race</th>\n      <th>age</th>\n      <th>projected_release</th>\n      <th>maximum_sentence_date</th>\n      <th>parole_eligibility_date</th>\n      <th>case_number</th>\n      <th>county</th>\n      <th>offense_code</th>\n      <th>tdcj_offense</th>\n      <th>sentence_date</th>\n      <th>offense_date</th>\n      <th>sentence_years</th>\n      <th>last_parole_decision</th>\n      <th>next_parole_review_date</th>\n      <th>parole_review_status</th>\n    </tr>\n  </thead>\n  <tbody>\n    <tr>\n      <th>0</th>\n      <td>00524524</td>\n      <td>00758486</td>\n      <td>HARPER,DAVID JOHN JR</td>\n      <td>Estelle</td>\n      <td>M</td>\n      <td>W</td>\n      <td>93</td>\n      <td>9999-01-01T00:00:00.000</td>\n      <td>9999-01-01T00:00:00.000</td>\n      <td>2026-08-03T00:00:00.000</td>\n      <td>95-765-C</td>\n      <td>McLennan</td>\n      <td>11180000</td>\n      <td>AGG SEXUAL ASSAULT</td>\n      <td>1996-08-13T00:00:00.000</td>\n      <td>1995-09-15T00:00:00.000</td>\n      <td>Life</td>\n      <td>None</td>\n      <td>08/03/2026</td>\n      <td>NOT IN REVIEW PROCESS</td>\n    </tr>\n    <tr>\n      <th>1</th>\n      <td>00703267</td>\n      <td>00841623</td>\n      <td>RODRIGUEZ,THEODORE</td>\n      <td>Hospital Galveston</td>\n      <td>M</td>\n      <td>W</td>\n      <td>84</td>\n      <td>2022-04-01T00:00:00.000</td>\n      <td>2043-08-03T00:00:00.000</td>\n      <td>2021-02-01T00:00:00.000</td>\n      <td>97-396-C</td>\n      <td>McLennan</td>\n      <td>11990003</td>\n      <td>AGG SEX ASLT</td>\n      <td>1998-08-05T00:00:00.000</td>\n      <td>1996-06-01T00:00:00.000</td>\n      <td>45.0</td>\n      <td>Approved on 08/18/2021</td>\n      <td>N/A</td>\n      <td>NOT IN REVIEW PROCESS</td>\n    </tr>\n    <tr>\n      <th>2</th>\n      <td>00770626</td>\n      <td>00449674</td>\n      <td>FLORES,ISABEL</td>\n      <td>Pack</td>\n      <td>M</td>\n      <td>H</td>\n      <td>85</td>\n      <td>9999-01-01T00:00:00.000</td>\n      <td>9999-01-01T00:00:00.000</td>\n      <td>2006-09-02T00:00:00.000</td>\n      <td>86CR-1234-B</td>\n      <td>Nueces</td>\n      <td>09150000</td>\n      <td>MURDER W/DEADLY WPN</td>\n      <td>1987-04-13T00:00:00.000</td>\n      <td>1986-09-02T00:00:00.000</td>\n      <td>Life</td>\n      <td>Denied on 07/21/2021</td>\n      <td>07/2024</td>\n      <td>NOT IN REVIEW PROCESS</td>\n    </tr>\n    <tr>\n      <th>3</th>\n      <td>00771601</td>\n      <td>01491019</td>\n      <td>MOLETT,JOHN HENRY</td>\n      <td>W. Scott</td>\n      <td>M</td>\n      <td>B</td>\n      <td>79</td>\n      <td>2037-12-02T00:00:00.000</td>\n      <td>2037-12-02T00:00:00.000</td>\n      <td>2022-12-02T00:00:00.000</td>\n      <td>1144294</td>\n      <td>Harris</td>\n      <td>12990002</td>\n      <td>AGG ROBBERY W/DW</td>\n      <td>2008-02-21T00:00:00.000</td>\n      <td>2007-12-03T00:00:00.000</td>\n      <td>30.0</td>\n      <td>None</td>\n      <td>12/02/2022</td>\n      <td>NOT IN REVIEW PROCESS</td>\n    </tr>\n    <tr>\n      <th>4</th>\n      <td>00779423</td>\n      <td>01241039</td>\n      <td>CARAWAY,LEON JR</td>\n      <td>C.T. Terrell</td>\n      <td>M</td>\n      <td>B</td>\n      <td>84</td>\n      <td>2023-06-19T00:00:00.000</td>\n      <td>2023-06-19T00:00:00.000</td>\n      <td>2013-06-18T00:00:00.000</td>\n      <td>04CR-16,149</td>\n      <td>Shelby</td>\n      <td>11990003</td>\n      <td>AGG SEXUAL ALST</td>\n      <td>2004-05-13T00:00:00.000</td>\n      <td>1999-07-24T00:00:00.000</td>\n      <td>20.0</td>\n      <td>Denied on 10/30/2019</td>\n      <td>09/2022</td>\n      <td>NOT IN REVIEW PROCESS</td>\n    </tr>\n    <tr>\n      <th>...</th>\n      <td>...</td>\n      <td>...</td>\n      <td>...</td>\n      <td>...</td>\n      <td>...</td>\n      <td>...</td>\n      <td>...</td>\n      <td>...</td>\n      <td>...</td>\n      <td>...</td>\n      <td>...</td>\n      <td>...</td>\n      <td>...</td>\n      <td>...</td>\n      <td>...</td>\n      <td>...</td>\n      <td>...</td>\n      <td>...</td>\n      <td>...</td>\n      <td>...</td>\n    </tr>\n    <tr>\n      <th>99995</th>\n      <td>17060062</td>\n      <td>02237912</td>\n      <td>DANSBY,LATONIO LASHUN</td>\n      <td>Clemens</td>\n      <td>M</td>\n      <td>B</td>\n      <td>21</td>\n      <td>2037-09-19T00:00:00.000</td>\n      <td>2037-09-19T00:00:00.000</td>\n      <td>2027-09-20T00:00:00.000</td>\n      <td>17CR2712</td>\n      <td>Galveston</td>\n      <td>11990004</td>\n      <td>AGG SEX ASLT CHILD</td>\n      <td>2018-12-10T00:00:00.000</td>\n      <td>2017-07-28T00:00:00.000</td>\n      <td>20.0</td>\n      <td>None</td>\n      <td>09/20/2027</td>\n      <td>NOT IN REVIEW PROCESS</td>\n    </tr>\n    <tr>\n      <th>99996</th>\n      <td>17060537</td>\n      <td>02264548</td>\n      <td>RODRIGUEZ,JUAN JOSE</td>\n      <td>Holliday</td>\n      <td>M</td>\n      <td>H</td>\n      <td>43</td>\n      <td>2047-09-19T00:00:00.000</td>\n      <td>2047-09-19T00:00:00.000</td>\n      <td>2032-09-18T00:00:00.000</td>\n      <td>F-1758274-M</td>\n      <td>Dallas</td>\n      <td>11990004</td>\n      <td>AGG SEXUAL ASLT CHILD</td>\n      <td>2019-05-21T00:00:00.000</td>\n      <td>2017-09-19T00:00:00.000</td>\n      <td>30.0</td>\n      <td>None</td>\n      <td>09/18/2032</td>\n      <td>NOT IN REVIEW PROCESS</td>\n    </tr>\n    <tr>\n      <th>99997</th>\n      <td>17060637</td>\n      <td>02296654</td>\n      <td>ELAM,ASHLEY MARIE</td>\n      <td>Hobby</td>\n      <td>F</td>\n      <td>W</td>\n      <td>24</td>\n      <td>2031-09-28T00:00:00.000</td>\n      <td>2031-09-28T00:00:00.000</td>\n      <td>2025-09-27T00:00:00.000</td>\n      <td>DC-F201900127</td>\n      <td>Johnson</td>\n      <td>09990030</td>\n      <td>MURDER</td>\n      <td>2019-12-02T00:00:00.000</td>\n      <td>2018-12-09T00:00:00.000</td>\n      <td>12.0</td>\n      <td>None</td>\n      <td>09/27/2025</td>\n      <td>NOT IN REVIEW PROCESS</td>\n    </tr>\n    <tr>\n      <th>99998</th>\n      <td>17060954</td>\n      <td>02355705</td>\n      <td>LEATON,EDUARDO BRITO</td>\n      <td>Mechler</td>\n      <td>M</td>\n      <td>W</td>\n      <td>51</td>\n      <td>2022-10-30T00:00:00.000</td>\n      <td>2025-08-20T00:00:00.000</td>\n      <td>2021-03-18T00:00:00.000</td>\n      <td>F-2040693-V</td>\n      <td>Dallas</td>\n      <td>37040009</td>\n      <td>POSS OR PROMOTION OF CHILD PORN</td>\n      <td>2021-06-25T00:00:00.000</td>\n      <td>2018-11-02T00:00:00.000</td>\n      <td>5.0</td>\n      <td>Denied on 09/02/2021</td>\n      <td>09/2022</td>\n      <td>NOT IN REVIEW PROCESS</td>\n    </tr>\n    <tr>\n      <th>99999</th>\n      <td>17060974</td>\n      <td>02323576</td>\n      <td>HALL,MALCOLM DEWAYNE</td>\n      <td>Clemens</td>\n      <td>M</td>\n      <td>B</td>\n      <td>22</td>\n      <td>2024-04-01T00:00:00.000</td>\n      <td>2024-04-01T00:00:00.000</td>\n      <td>2021-10-01T00:00:00.000</td>\n      <td>17-DCR-079483</td>\n      <td>Fort Bend</td>\n      <td>11990004</td>\n      <td>AGG SEX ASLT CHILD</td>\n      <td>2020-08-11T00:00:00.000</td>\n      <td>2017-09-01T00:00:00.000</td>\n      <td>5.0</td>\n      <td>Denied on 09/17/2021</td>\n      <td>N/A</td>\n      <td>NOT IN REVIEW PROCESS</td>\n    </tr>\n  </tbody>\n</table>\n<p>500000 rows × 20 columns</p>\n</div>"
     },
     "execution_count": 88,
     "metadata": {},
     "output_type": "execute_result"
    }
   ],
   "source": [
    "df"
   ],
   "metadata": {
    "collapsed": false,
    "pycharm": {
     "name": "#%%\n"
    }
   }
  },
  {
   "cell_type": "code",
   "execution_count": null,
   "outputs": [],
   "source": [],
   "metadata": {
    "collapsed": false,
    "pycharm": {
     "name": "#%%\n"
    }
   }
  }
 ],
 "metadata": {
  "kernelspec": {
   "display_name": "Python 3",
   "language": "python",
   "name": "python3"
  },
  "language_info": {
   "codemirror_mode": {
    "name": "ipython",
    "version": 2
   },
   "file_extension": ".py",
   "mimetype": "text/x-python",
   "name": "python",
   "nbconvert_exporter": "python",
   "pygments_lexer": "ipython2",
   "version": "2.7.6"
  }
 },
 "nbformat": 4,
 "nbformat_minor": 0
}